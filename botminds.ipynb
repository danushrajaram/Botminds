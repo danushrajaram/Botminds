{
  "nbformat": 4,
  "nbformat_minor": 0,
  "metadata": {
    "colab": {
      "private_outputs": true,
      "provenance": [],
      "gpuType": "T4"
    },
    "kernelspec": {
      "name": "python3",
      "display_name": "Python 3"
    },
    "language_info": {
      "name": "python"
    },
    "accelerator": "GPU"
  },
  "cells": [
    {
      "cell_type": "code",
      "execution_count": null,
      "metadata": {
        "id": "FwIq-9OXexH7"
      },
      "outputs": [],
      "source": [
        "!pip install langchain langroid pandas openai transformers deep-translator opencv-python pdfplumber"
      ]
    },
    {
      "cell_type": "code",
      "source": [
        "import pdfplumber\n",
        "\n",
        "def extract_text_from_pdf(file_path):\n",
        "    with pdfplumber.open(file_path) as pdf:\n",
        "        text = \"\"\n",
        "        for page in pdf.pages:\n",
        "            text += page.extract_text()\n",
        "    return text\n",
        "\n",
        "# Example Usage\n",
        "file_path = \"/content/99683_Poland_0000005418_12-2018.pdf\"\n",
        "document_text = extract_text_from_pdf(file_path)\n",
        "print(document_text[:500])  # Preview extracted text\n"
      ],
      "metadata": {
        "id": "Uehmw1uae6bL"
      },
      "execution_count": null,
      "outputs": []
    },
    {
      "cell_type": "code",
      "source": [
        "import re\n",
        "\n",
        "def extract_direct_label(text, label_name, pattern):\n",
        "    matches = re.findall(pattern, text)\n",
        "    if matches:\n",
        "        return matches[0]  # Returning the first match\n",
        "    return None\n",
        "\n",
        "# Example: Extract Revenue\n",
        "revenue_pattern = r\"Revenue\\s*:\\s*\\$?([\\d,\\.]+)\"\n",
        "revenue = extract_direct_label(document_text, \"Revenue\", revenue_pattern)\n",
        "print(\"Revenue:\", revenue)\n"
      ],
      "metadata": {
        "id": "KtQBSgATfhsX"
      },
      "execution_count": null,
      "outputs": []
    },
    {
      "cell_type": "code",
      "source": [
        "def calculate_ebit(revenue, operating_expense):\n",
        "    try:\n",
        "        return float(revenue) - float(operating_expense)\n",
        "    except (ValueError, TypeError):\n",
        "        return None\n",
        "\n",
        "# Example Usage\n",
        "revenue = \"1000000\"  # Example value\n",
        "operating_expense = \"500000\"  # Example value\n",
        "ebit = calculate_ebit(revenue, operating_expense)\n",
        "print(\"EBIT:\", ebit)\n"
      ],
      "metadata": {
        "id": "IBp0aRbcfnVe"
      },
      "execution_count": null,
      "outputs": []
    },
    {
      "cell_type": "code",
      "source": [
        "!pip install pytesseract"
      ],
      "metadata": {
        "id": "uzHddvU_fyoW"
      },
      "execution_count": null,
      "outputs": []
    },
    {
      "cell_type": "code",
      "source": [
        "from deep_translator import GoogleTranslator\n",
        "\n",
        "def translate_snippet(text, source_lang=\"auto\", target_lang=\"en\"):\n",
        "    translator = GoogleTranslator(source=source_lang, target=target_lang)\n",
        "    return translator.translate(text)\n",
        "\n",
        "# Example Usage\n",
        "non_english_text = \"Revenu : 1,000,000\"\n",
        "translated_text = translate_snippet(non_english_text)\n",
        "print(\"Translated Snippet:\", translated_text)\n"
      ],
      "metadata": {
        "id": "bSEZHA8OfptM"
      },
      "execution_count": null,
      "outputs": []
    },
    {
      "cell_type": "code",
      "source": [
        "def calculate_confidence_score(extracted_value, ground_truth):\n",
        "    if not extracted_value or not ground_truth:\n",
        "        return 0\n",
        "    if extracted_value == ground_truth:\n",
        "        return 100\n",
        "    return 0  # Adjust scoring logic as needed\n",
        "\n",
        "# Example Usage\n",
        "confidence = calculate_confidence_score(\"1000000\", \"1000000\")\n",
        "print(\"Confidence Score:\", confidence)\n"
      ],
      "metadata": {
        "id": "jwcHSUx9gCKT"
      },
      "execution_count": null,
      "outputs": []
    },
    {
      "cell_type": "code",
      "source": [
        "!pip install langchain_community openai"
      ],
      "metadata": {
        "id": "iHbNtjPwgJGa"
      },
      "execution_count": null,
      "outputs": []
    },
    {
      "cell_type": "code",
      "source": [
        "import os\n",
        "from langchain.llms import OpenAI\n",
        "from langchain.prompts import PromptTemplate\n",
        "\n",
        "# Set your OpenAI API key\n",
        "os.environ[\"OPENAI_API_KEY\"] = \"*open ai api key*\"\n",
        "\n",
        "# Initialize OpenAI LLM\n",
        "llm = OpenAI(temperature=0.2)\n",
        "\n",
        "# Create the prompt template\n",
        "prompt = PromptTemplate(\n",
        "    input_variables=[\"document_text\"],\n",
        "    template=\"Extract the EBIT and Revenue values from the following text:\\n\\n{document_text}\"\n",
        ")\n",
        "\n",
        "# Test the setup with a document_text\n",
        "document_text = \"The company's EBIT was $15M, and the Revenue reached $100M.\"\n",
        "response = llm(prompt.format(document_text=document_text))\n",
        "\n",
        "print(response)"
      ],
      "metadata": {
        "id": "ex5JZpb6gFEe"
      },
      "execution_count": null,
      "outputs": []
    },
    {
      "cell_type": "code",
      "source": [
        "!pip install fitz frontend PyMuPDF"
      ],
      "metadata": {
        "id": "K8LwqB42h10I"
      },
      "execution_count": null,
      "outputs": []
    },
    {
      "cell_type": "code",
      "source": [
        "import fitz  # PyMuPDF\n",
        "\n",
        "def extract_text_from_pdf(file_path):\n",
        "    try:\n",
        "        with fitz.open(file_path) as pdf:\n",
        "            text = \"\"\n",
        "            for page in pdf:\n",
        "                text += page.get_text()\n",
        "            return text\n",
        "    except Exception as e:\n",
        "        print(f\"Error extracting text: {e}\")\n",
        "        return None\n"
      ],
      "metadata": {
        "id": "jSovCVuQhOy4"
      },
      "execution_count": null,
      "outputs": []
    },
    {
      "cell_type": "code",
      "source": [
        "from google.colab import drive\n",
        "drive.mount('/content/')\n",
        "\n",
        "file_path = \"/content/99683_Poland_0000005418_12-2018.pdf\"\n",
        "\n",
        "def extract_text_from_pdf(file_path):\n",
        "    try:\n",
        "        with fitz.open(file_path) as pdf:\n",
        "            text = \"\"\n",
        "            for page in pdf:\n",
        "                text += page.get_text()\n",
        "            return text\n",
        "    except Exception as e:\n",
        "        print(f\"Error extracting text: {e}\")\n",
        "        return None\n",
        "\n",
        "print(extract_text_from_pdf(file_path))\n"
      ],
      "metadata": {
        "id": "mqkLJAo0iS6I"
      },
      "execution_count": null,
      "outputs": []
    }
  ]
}